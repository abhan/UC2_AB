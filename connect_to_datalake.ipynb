{
 "cells": [
  {
   "cell_type": "markdown",
   "metadata": {},
   "source": [
    "1.Install Python libraries to connect to Azure and Pyarrow"
   ]
  },
  {
   "cell_type": "code",
   "execution_count": 1,
   "metadata": {},
   "outputs": [
    {
     "name": "stderr",
     "output_type": "stream",
     "text": [
      "UsageError: Line magic function `%pip` not found.\n"
     ]
    }
   ],
   "source": [
    "%pip install azure.datalake.store --user\n",
    "%pip install pyarrow --user\n",
    "%pip install pandas --user"
   ]
  },
  {
   "cell_type": "code",
   "execution_count": 2,
   "metadata": {},
   "outputs": [],
   "source": [
    "from azure.datalake.store import core, lib\n",
    "from azure.datalake.store.multithread import ADLDownloader\n",
    "import pandas as pd\n",
    "from datetime import datetime\n",
    "import pyarrow.parquet as pq\n",
    "import io"
   ]
  },
  {
   "cell_type": "code",
   "execution_count": 4,
   "metadata": {},
   "outputs": [
    {
     "name": "stdout",
     "output_type": "stream",
     "text": [
      "To sign in, use a web browser to open the page https://microsoft.com/devicelogin and enter the code C7ST78KA8 to authenticate.\n"
     ]
    }
   ],
   "source": [
    "token = lib.auth(resource='https://datalake.azure.net/') # Interactive login\n",
    "adls = core.AzureDLFileSystem(token, store_name='datalakemdeea')"
   ]
  },
  {
   "cell_type": "code",
   "execution_count": 6,
   "metadata": {},
   "outputs": [
    {
     "name": "stdout",
     "output_type": "stream",
     "text": [
      "mkdir: data_test: File exists\r\n"
     ]
    },
    {
     "ename": "PermissionError",
     "evalue": "mde/test/DBSA/data/rawdata/help_docs/help_docs/20210118_135008_74A6A/batch_0000000/05410851eb894cac99df50a874e8a0b4_21b69100cdbe4fd68fc614774eb9c97c_2019-03-04.json",
     "output_type": "error",
     "traceback": [
      "\u001b[0;31m---------------------------------------------------------------------------\u001b[0m",
      "\u001b[0;31mPermissionError\u001b[0m                           Traceback (most recent call last)",
      "\u001b[0;32m<ipython-input-6-4774ca13e4dc>\u001b[0m in \u001b[0;36m<module>\u001b[0;34m()\u001b[0m\n\u001b[1;32m      4\u001b[0m \u001b[0;34m\u001b[0m\u001b[0m\n\u001b[1;32m      5\u001b[0m \u001b[0mlocal_folder\u001b[0m \u001b[0;34m=\u001b[0m \u001b[0;34m\"data_test/\"\u001b[0m\u001b[0;34m\u001b[0m\u001b[0;34m\u001b[0m\u001b[0m\n\u001b[0;32m----> 6\u001b[0;31m \u001b[0mADLDownloader\u001b[0m\u001b[0;34m(\u001b[0m\u001b[0madls\u001b[0m\u001b[0;34m,\u001b[0m \u001b[0mremote_folder\u001b[0m\u001b[0;34m,\u001b[0m \u001b[0mlocal_folder\u001b[0m\u001b[0;34m)\u001b[0m\u001b[0;34m\u001b[0m\u001b[0;34m\u001b[0m\u001b[0m\n\u001b[0m",
      "\u001b[0;32m/Users/i833360/.local/lib/python3.7/site-packages/azure/datalake/store/multithread.py\u001b[0m in \u001b[0;36m__init__\u001b[0;34m(self, adlfs, rpath, lpath, nthreads, chunksize, buffersize, blocksize, client, run, overwrite, verbose, progress_callback, timeout)\u001b[0m\n\u001b[1;32m    123\u001b[0m         \u001b[0;31m# Due to the nature of a distributed filesystem, the path could be deleted later during execution,\u001b[0m\u001b[0;34m\u001b[0m\u001b[0;34m\u001b[0m\u001b[0;34m\u001b[0m\u001b[0m\n\u001b[1;32m    124\u001b[0m         \u001b[0;31m# at which point the transfer's behavior may be non-deterministic, but it will indicate an error.\u001b[0m\u001b[0;34m\u001b[0m\u001b[0;34m\u001b[0m\u001b[0;34m\u001b[0m\u001b[0m\n\u001b[0;32m--> 125\u001b[0;31m         \u001b[0;32mif\u001b[0m \u001b[0;32mnot\u001b[0m \u001b[0madlfs\u001b[0m\u001b[0;34m.\u001b[0m\u001b[0mexists\u001b[0m\u001b[0;34m(\u001b[0m\u001b[0mAzureDLPath\u001b[0m\u001b[0;34m(\u001b[0m\u001b[0mrpath\u001b[0m\u001b[0;34m)\u001b[0m\u001b[0;34m.\u001b[0m\u001b[0mglobless_prefix\u001b[0m\u001b[0;34m,\u001b[0m \u001b[0minvalidate_cache\u001b[0m\u001b[0;34m=\u001b[0m\u001b[0;32mTrue\u001b[0m\u001b[0;34m)\u001b[0m\u001b[0;34m:\u001b[0m\u001b[0;34m\u001b[0m\u001b[0;34m\u001b[0m\u001b[0m\n\u001b[0m\u001b[1;32m    126\u001b[0m             \u001b[0;32mraise\u001b[0m \u001b[0mFileNotFoundError\u001b[0m\u001b[0;34m(\u001b[0m\u001b[0;34m'Data Lake item at path: {} either does not exist or the current user does not have permission to access it.'\u001b[0m\u001b[0;34m.\u001b[0m\u001b[0mformat\u001b[0m\u001b[0;34m(\u001b[0m\u001b[0mrpath\u001b[0m\u001b[0;34m)\u001b[0m\u001b[0;34m)\u001b[0m\u001b[0;34m\u001b[0m\u001b[0;34m\u001b[0m\u001b[0m\n\u001b[1;32m    127\u001b[0m         \u001b[0;32mif\u001b[0m \u001b[0mclient\u001b[0m\u001b[0;34m:\u001b[0m\u001b[0;34m\u001b[0m\u001b[0;34m\u001b[0m\u001b[0m\n",
      "\u001b[0;32m/Users/i833360/.local/lib/python3.7/site-packages/azure/datalake/store/core.py\u001b[0m in \u001b[0;36mexists\u001b[0;34m(self, path, invalidate_cache)\u001b[0m\n\u001b[1;32m    616\u001b[0m         \"\"\"\n\u001b[1;32m    617\u001b[0m         \u001b[0;32mtry\u001b[0m\u001b[0;34m:\u001b[0m\u001b[0;34m\u001b[0m\u001b[0;34m\u001b[0m\u001b[0m\n\u001b[0;32m--> 618\u001b[0;31m             \u001b[0mself\u001b[0m\u001b[0;34m.\u001b[0m\u001b[0minfo\u001b[0m\u001b[0;34m(\u001b[0m\u001b[0mpath\u001b[0m\u001b[0;34m,\u001b[0m \u001b[0minvalidate_cache\u001b[0m\u001b[0;34m,\u001b[0m \u001b[0mexpected_error_code\u001b[0m\u001b[0;34m=\u001b[0m\u001b[0;36m404\u001b[0m\u001b[0;34m)\u001b[0m\u001b[0;34m\u001b[0m\u001b[0;34m\u001b[0m\u001b[0m\n\u001b[0m\u001b[1;32m    619\u001b[0m             \u001b[0;32mreturn\u001b[0m \u001b[0;32mTrue\u001b[0m\u001b[0;34m\u001b[0m\u001b[0;34m\u001b[0m\u001b[0m\n\u001b[1;32m    620\u001b[0m         \u001b[0;32mexcept\u001b[0m \u001b[0mFileNotFoundError\u001b[0m\u001b[0;34m:\u001b[0m\u001b[0;34m\u001b[0m\u001b[0;34m\u001b[0m\u001b[0m\n",
      "\u001b[0;32m/Users/i833360/.local/lib/python3.7/site-packages/azure/datalake/store/core.py\u001b[0m in \u001b[0;36minfo\u001b[0;34m(self, path, invalidate_cache, expected_error_code)\u001b[0m\n\u001b[1;32m    205\u001b[0m         \u001b[0;31m# simply return the result of a GETFILESTATUS from the service\u001b[0m\u001b[0;34m\u001b[0m\u001b[0;34m\u001b[0m\u001b[0;34m\u001b[0m\u001b[0m\n\u001b[1;32m    206\u001b[0m         \u001b[0;32mif\u001b[0m \u001b[0minvalidate_cache\u001b[0m \u001b[0;32mor\u001b[0m \u001b[0mpath_as_posix\u001b[0m \u001b[0;32min\u001b[0m \u001b[0;34m{\u001b[0m\u001b[0;34m'/'\u001b[0m\u001b[0;34m,\u001b[0m \u001b[0;34m'.'\u001b[0m\u001b[0;34m}\u001b[0m\u001b[0;34m:\u001b[0m\u001b[0;34m\u001b[0m\u001b[0;34m\u001b[0m\u001b[0m\n\u001b[0;32m--> 207\u001b[0;31m             to_return = self.azure.call('GETFILESTATUS', path_as_posix, expected_error_code=expected_error_code)[\n\u001b[0m\u001b[1;32m    208\u001b[0m                 'FileStatus']\n\u001b[1;32m    209\u001b[0m             \u001b[0mto_return\u001b[0m\u001b[0;34m[\u001b[0m\u001b[0;34m'name'\u001b[0m\u001b[0;34m]\u001b[0m \u001b[0;34m=\u001b[0m \u001b[0mpath_as_posix\u001b[0m\u001b[0;34m\u001b[0m\u001b[0;34m\u001b[0m\u001b[0m\n",
      "\u001b[0;32m/Users/i833360/.local/lib/python3.7/site-packages/azure/datalake/store/lib.py\u001b[0m in \u001b[0;36mcall\u001b[0;34m(self, op, path, is_extended, expected_error_code, retry_policy, headers, **kwargs)\u001b[0m\n\u001b[1;32m    439\u001b[0m \u001b[0;34m\u001b[0m\u001b[0m\n\u001b[1;32m    440\u001b[0m         \u001b[0;32mif\u001b[0m \u001b[0mresponse\u001b[0m\u001b[0;34m.\u001b[0m\u001b[0mstatus_code\u001b[0m \u001b[0;34m==\u001b[0m \u001b[0;36m403\u001b[0m\u001b[0;34m:\u001b[0m\u001b[0;34m\u001b[0m\u001b[0;34m\u001b[0m\u001b[0m\n\u001b[0;32m--> 441\u001b[0;31m             \u001b[0mself\u001b[0m\u001b[0;34m.\u001b[0m\u001b[0mlog_response_and_raise\u001b[0m\u001b[0;34m(\u001b[0m\u001b[0mresponse\u001b[0m\u001b[0;34m,\u001b[0m \u001b[0mPermissionError\u001b[0m\u001b[0;34m(\u001b[0m\u001b[0mpath\u001b[0m\u001b[0;34m)\u001b[0m\u001b[0;34m,\u001b[0m \u001b[0mlevel\u001b[0m\u001b[0;34m=\u001b[0m\u001b[0mexception_log_level\u001b[0m\u001b[0;34m)\u001b[0m\u001b[0;34m\u001b[0m\u001b[0;34m\u001b[0m\u001b[0m\n\u001b[0m\u001b[1;32m    442\u001b[0m         \u001b[0;32melif\u001b[0m \u001b[0mresponse\u001b[0m\u001b[0;34m.\u001b[0m\u001b[0mstatus_code\u001b[0m \u001b[0;34m==\u001b[0m \u001b[0;36m404\u001b[0m\u001b[0;34m:\u001b[0m\u001b[0;34m\u001b[0m\u001b[0;34m\u001b[0m\u001b[0m\n\u001b[1;32m    443\u001b[0m             \u001b[0mself\u001b[0m\u001b[0;34m.\u001b[0m\u001b[0mlog_response_and_raise\u001b[0m\u001b[0;34m(\u001b[0m\u001b[0mresponse\u001b[0m\u001b[0;34m,\u001b[0m \u001b[0mFileNotFoundError\u001b[0m\u001b[0;34m(\u001b[0m\u001b[0mpath\u001b[0m\u001b[0;34m)\u001b[0m\u001b[0;34m,\u001b[0m \u001b[0mlevel\u001b[0m\u001b[0;34m=\u001b[0m\u001b[0mexception_log_level\u001b[0m\u001b[0;34m)\u001b[0m\u001b[0;34m\u001b[0m\u001b[0;34m\u001b[0m\u001b[0m\n",
      "\u001b[0;32m/Users/i833360/.local/lib/python3.7/site-packages/azure/datalake/store/lib.py\u001b[0m in \u001b[0;36mlog_response_and_raise\u001b[0;34m(self, response, exception, level)\u001b[0m\n\u001b[1;32m    347\u001b[0m                 \u001b[0mmsg\u001b[0m \u001b[0;34m+=\u001b[0m \u001b[0;34mu\"\\n(Response body was truncated)\"\u001b[0m\u001b[0;34m\u001b[0m\u001b[0;34m\u001b[0m\u001b[0m\n\u001b[1;32m    348\u001b[0m         \u001b[0mlogger\u001b[0m\u001b[0;34m.\u001b[0m\u001b[0mlog\u001b[0m\u001b[0;34m(\u001b[0m\u001b[0mlevel\u001b[0m\u001b[0;34m,\u001b[0m \u001b[0mmsg\u001b[0m\u001b[0;34m)\u001b[0m\u001b[0;34m\u001b[0m\u001b[0;34m\u001b[0m\u001b[0m\n\u001b[0;32m--> 349\u001b[0;31m         \u001b[0;32mraise\u001b[0m \u001b[0mexception\u001b[0m\u001b[0;34m\u001b[0m\u001b[0;34m\u001b[0m\u001b[0m\n\u001b[0m\u001b[1;32m    350\u001b[0m \u001b[0;34m\u001b[0m\u001b[0m\n\u001b[1;32m    351\u001b[0m     \u001b[0;32mdef\u001b[0m \u001b[0m_is_json_response\u001b[0m\u001b[0;34m(\u001b[0m\u001b[0mself\u001b[0m\u001b[0;34m,\u001b[0m \u001b[0mresponse\u001b[0m\u001b[0;34m)\u001b[0m\u001b[0;34m:\u001b[0m\u001b[0;34m\u001b[0m\u001b[0;34m\u001b[0m\u001b[0m\n",
      "\u001b[0;31mPermissionError\u001b[0m: mde/test/DBSA/data/rawdata/help_docs/help_docs/20210118_135008_74A6A/batch_0000000/05410851eb894cac99df50a874e8a0b4_21b69100cdbe4fd68fc614774eb9c97c_2019-03-04.json"
     ]
    }
   ],
   "source": [
    "!mkdir data_test\n",
    "# remote_folder = \"/mde/test/DBSA/data/store/help_docs/rw_help_docs/20201208_210549_45F41_batch_0000000.parquet\"\n",
    "remote_folder = \"/mde/test/DBSA/data/rawdata/help_docs/help_docs/20210118_135008_74A6A/batch_0000000/05410851eb894cac99df50a874e8a0b4_21b69100cdbe4fd68fc614774eb9c97c_2019-03-04.json\"\n",
    "\n",
    "local_folder = \"data_test/\"\n",
    "ADLDownloader(adls, remote_folder, local_folder)"
   ]
  },
  {
   "cell_type": "code",
   "execution_count": 7,
   "metadata": {},
   "outputs": [],
   "source": [
    "import json"
   ]
  },
  {
   "cell_type": "code",
   "execution_count": 8,
   "metadata": {},
   "outputs": [
    {
     "ename": "FileNotFoundError",
     "evalue": "[Errno 2] No such file or directory: 'data_test/05410851eb894cac99df50a874e8a0b4_21b69100cdbe4fd68fc614774eb9c97c_2019-03-04.json'",
     "output_type": "error",
     "traceback": [
      "\u001b[0;31m---------------------------------------------------------------------------\u001b[0m",
      "\u001b[0;31mFileNotFoundError\u001b[0m                         Traceback (most recent call last)",
      "\u001b[0;32m<ipython-input-8-9ad0731be6c6>\u001b[0m in \u001b[0;36m<module>\u001b[0;34m()\u001b[0m\n\u001b[0;32m----> 1\u001b[0;31m \u001b[0mtest_file\u001b[0m \u001b[0;34m=\u001b[0m \u001b[0mjson\u001b[0m\u001b[0;34m.\u001b[0m\u001b[0mload\u001b[0m\u001b[0;34m(\u001b[0m\u001b[0mopen\u001b[0m\u001b[0;34m(\u001b[0m\u001b[0;34m'data_test/05410851eb894cac99df50a874e8a0b4_21b69100cdbe4fd68fc614774eb9c97c_2019-03-04.json'\u001b[0m\u001b[0;34m,\u001b[0m\u001b[0;34m'r'\u001b[0m\u001b[0;34m)\u001b[0m\u001b[0;34m)\u001b[0m\u001b[0;34m\u001b[0m\u001b[0;34m\u001b[0m\u001b[0m\n\u001b[0m",
      "\u001b[0;31mFileNotFoundError\u001b[0m: [Errno 2] No such file or directory: 'data_test/05410851eb894cac99df50a874e8a0b4_21b69100cdbe4fd68fc614774eb9c97c_2019-03-04.json'"
     ]
    }
   ],
   "source": [
    "test_file = json.load(open('data_test/05410851eb894cac99df50a874e8a0b4_21b69100cdbe4fd68fc614774eb9c97c_2019-03-04.json','r'))"
   ]
  },
  {
   "cell_type": "code",
   "execution_count": 9,
   "metadata": {},
   "outputs": [
    {
     "ename": "NameError",
     "evalue": "name 'test_file' is not defined",
     "output_type": "error",
     "traceback": [
      "\u001b[0;31m---------------------------------------------------------------------------\u001b[0m",
      "\u001b[0;31mNameError\u001b[0m                                 Traceback (most recent call last)",
      "\u001b[0;32m<ipython-input-9-f8c412278904>\u001b[0m in \u001b[0;36m<module>\u001b[0;34m()\u001b[0m\n\u001b[0;32m----> 1\u001b[0;31m \u001b[0mtest_file\u001b[0m\u001b[0;34m\u001b[0m\u001b[0;34m\u001b[0m\u001b[0m\n\u001b[0m",
      "\u001b[0;31mNameError\u001b[0m: name 'test_file' is not defined"
     ]
    }
   ],
   "source": [
    "test_file"
   ]
  },
  {
   "cell_type": "code",
   "execution_count": null,
   "metadata": {},
   "outputs": [],
   "source": [
    "!mkdir help_docs"
   ]
  },
  {
   "cell_type": "code",
   "execution_count": 12,
   "metadata": {},
   "outputs": [
    {
     "data": {
      "text/plain": [
       "<ADL Download: /mde/prod/DBSA/data/store/help_docs/rw_help_docs/20210308_040701_3D7ED_batch_0000000.parquet -> help_docs/ ({'finished': 1})>"
      ]
     },
     "execution_count": 12,
     "metadata": {},
     "output_type": "execute_result"
    }
   ],
   "source": [
    "remote_folder = \"/mde/prod/DBSA/data/store/help_docs/rw_help_docs/20210308_040701_3D7ED_batch_0000000.parquet\"\n",
    "local_folder = \"help_docs/\"\n",
    "ADLDownloader(adls, remote_folder, local_folder)"
   ]
  },
  {
   "cell_type": "code",
   "execution_count": 14,
   "metadata": {},
   "outputs": [
    {
     "name": "stdout",
     "output_type": "stream",
     "text": [
      "<pyarrow._parquet.ParquetSchema object at 0x7f4b15c108c8>\n",
      "required group field_id=0 schema {\n",
      "  optional binary field_id=1 deliverable (String);\n",
      "  optional binary field_id=2 product (String);\n",
      "  optional binary field_id=3 date (String);\n",
      "  optional binary field_id=4 state (String);\n",
      "  optional binary field_id=5 mimeType (String);\n",
      "  optional binary field_id=6 description (String);\n",
      "  optional binary field_id=7 format (String);\n",
      "  optional binary field_id=8 documentType (String);\n",
      "  optional binary field_id=9 url (String);\n",
      "  optional binary field_id=10 content (String);\n",
      "  optional binary field_id=11 title (String);\n",
      "  optional binary field_id=12 topic (String);\n",
      "  optional binary field_id=13 version (String);\n",
      "  optional binary field_id=14 transtype (String);\n",
      "  optional binary field_id=15 last_mod_date (String);\n",
      "  optional int64 field_id=16 insert_timestamp (Timestamp(isAdjustedToUTC=true, timeUnit=nanoseconds, is_from_converted_type=false, force_set_converted_type=false));\n",
      "  optional binary field_id=17 input_file_id (String);\n",
      "}\n",
      "\n"
     ]
    }
   ],
   "source": [
    "ds = pq.ParquetDataset(\"./help_docs/20210308_040701_3D7ED_batch_0000000.parquet\")\n",
    "# Print the schema\n",
    "print(ds.schema)"
   ]
  },
  {
   "cell_type": "code",
   "execution_count": null,
   "metadata": {},
   "outputs": [],
   "source": []
  }
 ],
 "metadata": {
  "kernelspec": {
   "display_name": "Python 3",
   "language": "python",
   "name": "python3"
  },
  "language_info": {
   "codemirror_mode": {
    "name": "ipython",
    "version": 3
   },
   "file_extension": ".py",
   "mimetype": "text/x-python",
   "name": "python",
   "nbconvert_exporter": "python",
   "pygments_lexer": "ipython3",
   "version": "3.7.4"
  }
 },
 "nbformat": 4,
 "nbformat_minor": 2
}
