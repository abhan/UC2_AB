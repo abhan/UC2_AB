{
 "cells": [
  {
   "cell_type": "code",
   "execution_count": 21,
   "metadata": {},
   "outputs": [
    {
     "name": "stdout",
     "output_type": "stream",
     "text": [
      "Requirement already satisfied: pymongo in ./.local/lib/python3.6/site-packages (3.11.4)\n",
      "Note: you may need to restart the kernel to use updated packages.\n",
      "Requirement already satisfied: pandas in ./.local/lib/python3.6/site-packages (1.1.5)\n",
      "Requirement already satisfied: python-dateutil>=2.7.3 in /usr/local/lib/python3.6/dist-packages (from pandas) (2.8.0)\n",
      "Requirement already satisfied: numpy>=1.15.4 in /usr/local/lib/python3.6/dist-packages (from pandas) (1.16.4)\n",
      "Requirement already satisfied: pytz>=2017.2 in /usr/local/lib/python3.6/dist-packages (from pandas) (2019.2)\n",
      "Requirement already satisfied: six>=1.5 in /usr/lib/python3/dist-packages (from python-dateutil>=2.7.3->pandas) (1.11.0)\n",
      "Note: you may need to restart the kernel to use updated packages.\n"
     ]
    }
   ],
   "source": [
    "%pip install pymongo --user\n",
    "%pip install pandas --user"
   ]
  },
  {
   "cell_type": "code",
   "execution_count": 185,
   "metadata": {},
   "outputs": [],
   "source": [
    "# -*- coding: utf-8 -*-\n",
    "from pymongo import MongoClient\n",
    "import datetime\n",
    "import time\n",
    "import pymongo\n",
    "import pandas as pd\n",
    "import os\n",
    "import requests\n",
    "import ast\n",
    "from ast import literal_eval\n",
    "\n",
    "#from datetime import datetime"
   ]
  },
  {
   "cell_type": "code",
   "execution_count": 186,
   "metadata": {},
   "outputs": [],
   "source": [
    "# DB Config\n",
    "MONGODB_ADDRESS    = os.environ.get('KEY_MONGO_ADDRESS','mongodb-service.stag-data.svc.cluster.local')\n",
    "MONGODB_PORT       = os.environ.get('KEY_MONGO_PORT', '27017')\n",
    "MONGODB_USERNAME   = os.environ.get('KEY_MONGO_USER', 'IBSO-read-write')\n",
    "MONGODB_PASSWORD   = os.environ.get('KEY_MONGO_PASSWORD', 'NHWD5bw0xcMgy1Y')\n",
    "MONGODB_DATABASE   = os.environ.get('KEY_MONGO_DATABASE', 'admin')"
   ]
  },
  {
   "cell_type": "code",
   "execution_count": 165,
   "metadata": {},
   "outputs": [],
   "source": [
    "def connect_mongo():\n",
    "    try:\n",
    "        mongo_client = MongoClient(\n",
    "            ('mongodb://%s:%s@' + MONGODB_ADDRESS + ':' + MONGODB_PORT + '/' + MONGODB_DATABASE) % (\n",
    "                MONGODB_USERNAME, MONGODB_PASSWORD),\n",
    "            replicaset='rs0')\n",
    "        return mongo_client\n",
    "    except:\n",
    "        print(\"connection wrong\")\n",
    "        exit()"
   ]
  },
  {
   "cell_type": "code",
   "execution_count": 166,
   "metadata": {},
   "outputs": [],
   "source": [
    "# Set up db connection\n",
    "mongo_client = connect_mongo()"
   ]
  },
  {
   "cell_type": "markdown",
   "metadata": {},
   "source": [
    "# UC2 - Solution Finder - Automatic Validation"
   ]
  },
  {
   "cell_type": "code",
   "execution_count": 167,
   "metadata": {},
   "outputs": [],
   "source": [
    "\n",
    "infodocs_metadata_cloud = mongo_client['IBSO']['infodocs_metadata_cloud_only']\n",
    "release_2202_df = pd.DataFrame(infodocs_metadata_cloud.find({'prod_version': 'SAP S/4HANA CLOUD 2202'}))\n",
    "duplets_to_remove = release_2202_df[['customer_no', 'installation_no']].drop_duplicates()\n",
    "all_cloud_df = pd.DataFrame(infodocs_metadata_cloud.find({}))\n",
    "ind_to_remove = pd.Int64Index([])\n",
    "for row in duplets_to_remove.iloc:\n",
    "    ind_to_remove = ind_to_remove.join(all_cloud_df[(all_cloud_df['customer_no'] == row['customer_no']) & (all_cloud_df['installation_no'] == row['installation_no'])].index, how='outer')\n",
    "filtered_df = all_cloud_df.drop(index=ind_to_remove)\n"
   ]
  },
  {
   "cell_type": "code",
   "execution_count": 147,
   "metadata": {},
   "outputs": [
    {
     "data": {
      "text/plain": [
       "Index(['_id', 'css_object_id', 'incident_created_at_dt', 'customer_name',\n",
       "       'customer_no', 'component', 'description', 'prod_version',\n",
       "       'communication_logs', 'solns', 'description_problem_description',\n",
       "       'Reply', 'installation_no', 'system_no'],\n",
       "      dtype='object')"
      ]
     },
     "execution_count": 147,
     "metadata": {},
     "output_type": "execute_result"
    }
   ],
   "source": [
    "release_2202_df.shape\n",
    "release_2202_df.columns"
   ]
  },
  {
   "cell_type": "code",
   "execution_count": 148,
   "metadata": {},
   "outputs": [
    {
     "data": {
      "text/html": [
       "<div>\n",
       "<style scoped>\n",
       "    .dataframe tbody tr th:only-of-type {\n",
       "        vertical-align: middle;\n",
       "    }\n",
       "\n",
       "    .dataframe tbody tr th {\n",
       "        vertical-align: top;\n",
       "    }\n",
       "\n",
       "    .dataframe thead th {\n",
       "        text-align: right;\n",
       "    }\n",
       "</style>\n",
       "<table border=\"1\" class=\"dataframe\">\n",
       "  <thead>\n",
       "    <tr style=\"text-align: right;\">\n",
       "      <th></th>\n",
       "      <th>component</th>\n",
       "      <th>solns</th>\n",
       "    </tr>\n",
       "  </thead>\n",
       "  <tbody>\n",
       "    <tr>\n",
       "      <th>0</th>\n",
       "      <td>X4-CBC-PRX</td>\n",
       "      <td>[0000000010, 0000067739]</td>\n",
       "    </tr>\n",
       "    <tr>\n",
       "      <th>1</th>\n",
       "      <td>BC-NEO-CIS-OPS</td>\n",
       "      <td>[0003090520, 0003090520]</td>\n",
       "    </tr>\n",
       "    <tr>\n",
       "      <th>2</th>\n",
       "      <td>X4-CBC-BCL</td>\n",
       "      <td>[0000000010]</td>\n",
       "    </tr>\n",
       "    <tr>\n",
       "      <th>3</th>\n",
       "      <td>FI-GL-GL-N</td>\n",
       "      <td>[0002594771]</td>\n",
       "    </tr>\n",
       "    <tr>\n",
       "      <th>4</th>\n",
       "      <td>FI-FIO-GL</td>\n",
       "      <td>[0002594771]</td>\n",
       "    </tr>\n",
       "    <tr>\n",
       "      <th>5</th>\n",
       "      <td>PM-EQM-EQ</td>\n",
       "      <td>[0002840635]</td>\n",
       "    </tr>\n",
       "    <tr>\n",
       "      <th>6</th>\n",
       "      <td>PS</td>\n",
       "      <td>[0002673882]</td>\n",
       "    </tr>\n",
       "    <tr>\n",
       "      <th>7</th>\n",
       "      <td>FI-FIO-GL-MD</td>\n",
       "      <td>[0000560499]</td>\n",
       "    </tr>\n",
       "    <tr>\n",
       "      <th>8</th>\n",
       "      <td>X4-CBC-SSC</td>\n",
       "      <td>[0003207860]</td>\n",
       "    </tr>\n",
       "    <tr>\n",
       "      <th>9</th>\n",
       "      <td>PP-MRP</td>\n",
       "      <td>[0002594771]</td>\n",
       "    </tr>\n",
       "  </tbody>\n",
       "</table>\n",
       "</div>"
      ],
      "text/plain": [
       "        component                     solns\n",
       "0      X4-CBC-PRX  [0000000010, 0000067739]\n",
       "1  BC-NEO-CIS-OPS  [0003090520, 0003090520]\n",
       "2      X4-CBC-BCL              [0000000010]\n",
       "3      FI-GL-GL-N              [0002594771]\n",
       "4       FI-FIO-GL              [0002594771]\n",
       "5       PM-EQM-EQ              [0002840635]\n",
       "6              PS              [0002673882]\n",
       "7    FI-FIO-GL-MD              [0000560499]\n",
       "8      X4-CBC-SSC              [0003207860]\n",
       "9          PP-MRP              [0002594771]"
      ]
     },
     "execution_count": 148,
     "metadata": {},
     "output_type": "execute_result"
    }
   ],
   "source": [
    "release_2202_df[['component', 'solns']][0:10]"
   ]
  },
  {
   "cell_type": "code",
   "execution_count": 149,
   "metadata": {},
   "outputs": [
    {
     "data": {
      "text/html": [
       "<div>\n",
       "<style scoped>\n",
       "    .dataframe tbody tr th:only-of-type {\n",
       "        vertical-align: middle;\n",
       "    }\n",
       "\n",
       "    .dataframe tbody tr th {\n",
       "        vertical-align: top;\n",
       "    }\n",
       "\n",
       "    .dataframe thead th {\n",
       "        text-align: right;\n",
       "    }\n",
       "</style>\n",
       "<table border=\"1\" class=\"dataframe\">\n",
       "  <thead>\n",
       "    <tr style=\"text-align: right;\">\n",
       "      <th></th>\n",
       "      <th>_id</th>\n",
       "      <th>css_object_id</th>\n",
       "      <th>incident_created_at_dt</th>\n",
       "      <th>customer_name</th>\n",
       "      <th>customer_no</th>\n",
       "      <th>component</th>\n",
       "      <th>description</th>\n",
       "      <th>prod_version</th>\n",
       "      <th>communication_logs</th>\n",
       "      <th>solns</th>\n",
       "      <th>description_problem_description</th>\n",
       "      <th>Reply</th>\n",
       "      <th>installation_no</th>\n",
       "      <th>system_no</th>\n",
       "    </tr>\n",
       "  </thead>\n",
       "  <tbody>\n",
       "    <tr>\n",
       "      <th>0</th>\n",
       "      <td>635a8853ef9125b221068e4d</td>\n",
       "      <td>002075129400003366342022</td>\n",
       "      <td>2022-05-05 13:33:14</td>\n",
       "      <td></td>\n",
       "      <td></td>\n",
       "      <td>X4-CBC-PRX</td>\n",
       "      <td>CBC URL - UNAUTHORIZED</td>\n",
       "      <td>SAP S/4HANA CLOUD 2202</td>\n",
       "      <td>[{'datetime': '', 'text': '&lt;p&gt;', 'type': ''}, ...</td>\n",
       "      <td>[0000000010, 0000067739]</td>\n",
       "      <td>CBC URL - UNAUTHORIZED. Product Area selected:...</td>\n",
       "      <td></td>\n",
       "      <td>0090734847</td>\n",
       "      <td>741286398</td>\n",
       "    </tr>\n",
       "    <tr>\n",
       "      <th>1</th>\n",
       "      <td>635a8853ef9125b221068e89</td>\n",
       "      <td>002075129500003324172022</td>\n",
       "      <td>2022-05-06 10:55:21</td>\n",
       "      <td></td>\n",
       "      <td></td>\n",
       "      <td>BC-NEO-CIS-OPS</td>\n",
       "      <td>SAP BTP URL</td>\n",
       "      <td>SAP S/4HANA CLOUD 2202</td>\n",
       "      <td>[{'datetime': '', 'text': '&lt;p&gt;', 'type': ''}, ...</td>\n",
       "      <td>[0003090520, 0003090520]</td>\n",
       "      <td>SAP BTP URL. Product Area selected: SAP S/4HAN...</td>\n",
       "      <td></td>\n",
       "      <td>0090734847</td>\n",
       "      <td>741286398</td>\n",
       "    </tr>\n",
       "    <tr>\n",
       "      <th>2</th>\n",
       "      <td>635a8853ef9125b221068ebb</td>\n",
       "      <td>002075129400003411872022</td>\n",
       "      <td>2022-05-07 06:11:03</td>\n",
       "      <td></td>\n",
       "      <td></td>\n",
       "      <td>X4-CBC-BCL</td>\n",
       "      <td>SAP CBC URL Process is running from long time</td>\n",
       "      <td>SAP S/4HANA CLOUD 2202</td>\n",
       "      <td>[{'datetime': '', 'text': '&lt;p&gt;', 'type': ''}, ...</td>\n",
       "      <td>[0000000010]</td>\n",
       "      <td>SAP CBC URL Process is running from long time....</td>\n",
       "      <td></td>\n",
       "      <td>0090734847</td>\n",
       "      <td>741286398</td>\n",
       "    </tr>\n",
       "    <tr>\n",
       "      <th>3</th>\n",
       "      <td>635a8853ef9125b221069200</td>\n",
       "      <td>002075129400003925982022</td>\n",
       "      <td>2022-05-25 11:22:06</td>\n",
       "      <td></td>\n",
       "      <td></td>\n",
       "      <td>FI-GL-GL-N</td>\n",
       "      <td>Authorisation error in Renumber G/L Accounts</td>\n",
       "      <td>SAP S/4HANA CLOUD 2202</td>\n",
       "      <td>[{'datetime': '', 'text': '&lt;p&gt;', 'type': ''}, ...</td>\n",
       "      <td>[0002594771]</td>\n",
       "      <td>Authorisation error in Renumber G/L Accounts. ...</td>\n",
       "      <td></td>\n",
       "      <td>0090734847</td>\n",
       "      <td>741632608</td>\n",
       "    </tr>\n",
       "    <tr>\n",
       "      <th>4</th>\n",
       "      <td>635a8853ef9125b221069203</td>\n",
       "      <td>002075129400003925772022</td>\n",
       "      <td>2022-05-25 11:26:05</td>\n",
       "      <td></td>\n",
       "      <td></td>\n",
       "      <td>FI-FIO-GL</td>\n",
       "      <td>Chart of account assignment</td>\n",
       "      <td>SAP S/4HANA CLOUD 2202</td>\n",
       "      <td>[{'datetime': '', 'text': '&lt;p&gt;', 'type': ''}, ...</td>\n",
       "      <td>[0002594771]</td>\n",
       "      <td>Chart of account assignment. --- Support Assis...</td>\n",
       "      <td></td>\n",
       "      <td>0090734847</td>\n",
       "      <td>741632608</td>\n",
       "    </tr>\n",
       "    <tr>\n",
       "      <th>5</th>\n",
       "      <td>635a8853ef9125b221069208</td>\n",
       "      <td>002075129500003775032022</td>\n",
       "      <td>2022-05-25 11:49:05</td>\n",
       "      <td></td>\n",
       "      <td></td>\n",
       "      <td>PM-EQM-EQ</td>\n",
       "      <td>Equipment Category is missing in SAP Cloud</td>\n",
       "      <td>SAP S/4HANA CLOUD 2202</td>\n",
       "      <td>[{'datetime': '', 'text': '&lt;p&gt;', 'type': ''}, ...</td>\n",
       "      <td>[0002840635]</td>\n",
       "      <td>Equipment Category is missing in SAP Cloud. Pr...</td>\n",
       "      <td></td>\n",
       "      <td>0090734847</td>\n",
       "      <td>741632608</td>\n",
       "    </tr>\n",
       "    <tr>\n",
       "      <th>6</th>\n",
       "      <td>635a8853ef9125b22106920a</td>\n",
       "      <td>002075129400003927312022</td>\n",
       "      <td>2022-05-25 12:01:07</td>\n",
       "      <td></td>\n",
       "      <td></td>\n",
       "      <td>PS</td>\n",
       "      <td>Project System Coding Mask Issue</td>\n",
       "      <td>SAP S/4HANA CLOUD 2202</td>\n",
       "      <td>[{'datetime': '', 'text': '&lt;p&gt;', 'type': ''}, ...</td>\n",
       "      <td>[0002673882]</td>\n",
       "      <td>Project System Coding Mask Issue. Product Area...</td>\n",
       "      <td></td>\n",
       "      <td>0090734847</td>\n",
       "      <td>741632608</td>\n",
       "    </tr>\n",
       "    <tr>\n",
       "      <th>7</th>\n",
       "      <td>635a8853ef9125b22106920e</td>\n",
       "      <td>002028376700034538692022</td>\n",
       "      <td>2022-05-25 12:44:44</td>\n",
       "      <td></td>\n",
       "      <td></td>\n",
       "      <td>FI-FIO-GL-MD</td>\n",
       "      <td>manage G/l account</td>\n",
       "      <td>SAP S/4HANA CLOUD 2202</td>\n",
       "      <td>[{'datetime': '', 'text': '&lt;p&gt;', 'type': ''}, ...</td>\n",
       "      <td>[0000560499]</td>\n",
       "      <td>manage G/l account. --- Support Assistant ---P...</td>\n",
       "      <td></td>\n",
       "      <td>0090734847</td>\n",
       "      <td>741632608</td>\n",
       "    </tr>\n",
       "    <tr>\n",
       "      <th>8</th>\n",
       "      <td>635a8853ef9125b221069210</td>\n",
       "      <td>002075129500003777182022</td>\n",
       "      <td>2022-05-25 12:51:17</td>\n",
       "      <td></td>\n",
       "      <td></td>\n",
       "      <td>X4-CBC-SSC</td>\n",
       "      <td>Project Control  - Capital Project Tiles Hide</td>\n",
       "      <td>SAP S/4HANA CLOUD 2202</td>\n",
       "      <td>[{'datetime': '', 'text': '&lt;p&gt;', 'type': ''}, ...</td>\n",
       "      <td>[0003207860]</td>\n",
       "      <td>Project Control  - Capital Project Tiles Hide....</td>\n",
       "      <td></td>\n",
       "      <td>0090734847</td>\n",
       "      <td>741632608</td>\n",
       "    </tr>\n",
       "    <tr>\n",
       "      <th>9</th>\n",
       "      <td>635a8853ef9125b221069211</td>\n",
       "      <td>002075129400003929742022</td>\n",
       "      <td>2022-05-25 13:02:05</td>\n",
       "      <td></td>\n",
       "      <td></td>\n",
       "      <td>PP-MRP</td>\n",
       "      <td>Configuration Error For \"specifying sheduling ...</td>\n",
       "      <td>SAP S/4HANA CLOUD 2202</td>\n",
       "      <td>[{'datetime': '', 'text': '&lt;p&gt;', 'type': ''}, ...</td>\n",
       "      <td>[0002594771]</td>\n",
       "      <td>Configuration Error For \"specifying sheduling ...</td>\n",
       "      <td></td>\n",
       "      <td>0090734847</td>\n",
       "      <td>741632608</td>\n",
       "    </tr>\n",
       "  </tbody>\n",
       "</table>\n",
       "</div>"
      ],
      "text/plain": [
       "                        _id             css_object_id incident_created_at_dt  \\\n",
       "0  635a8853ef9125b221068e4d  002075129400003366342022    2022-05-05 13:33:14   \n",
       "1  635a8853ef9125b221068e89  002075129500003324172022    2022-05-06 10:55:21   \n",
       "2  635a8853ef9125b221068ebb  002075129400003411872022    2022-05-07 06:11:03   \n",
       "3  635a8853ef9125b221069200  002075129400003925982022    2022-05-25 11:22:06   \n",
       "4  635a8853ef9125b221069203  002075129400003925772022    2022-05-25 11:26:05   \n",
       "5  635a8853ef9125b221069208  002075129500003775032022    2022-05-25 11:49:05   \n",
       "6  635a8853ef9125b22106920a  002075129400003927312022    2022-05-25 12:01:07   \n",
       "7  635a8853ef9125b22106920e  002028376700034538692022    2022-05-25 12:44:44   \n",
       "8  635a8853ef9125b221069210  002075129500003777182022    2022-05-25 12:51:17   \n",
       "9  635a8853ef9125b221069211  002075129400003929742022    2022-05-25 13:02:05   \n",
       "\n",
       "  customer_name customer_no       component  \\\n",
       "0                                X4-CBC-PRX   \n",
       "1                            BC-NEO-CIS-OPS   \n",
       "2                                X4-CBC-BCL   \n",
       "3                                FI-GL-GL-N   \n",
       "4                                 FI-FIO-GL   \n",
       "5                                 PM-EQM-EQ   \n",
       "6                                        PS   \n",
       "7                              FI-FIO-GL-MD   \n",
       "8                                X4-CBC-SSC   \n",
       "9                                    PP-MRP   \n",
       "\n",
       "                                         description            prod_version  \\\n",
       "0                             CBC URL - UNAUTHORIZED  SAP S/4HANA CLOUD 2202   \n",
       "1                                        SAP BTP URL  SAP S/4HANA CLOUD 2202   \n",
       "2      SAP CBC URL Process is running from long time  SAP S/4HANA CLOUD 2202   \n",
       "3       Authorisation error in Renumber G/L Accounts  SAP S/4HANA CLOUD 2202   \n",
       "4                        Chart of account assignment  SAP S/4HANA CLOUD 2202   \n",
       "5         Equipment Category is missing in SAP Cloud  SAP S/4HANA CLOUD 2202   \n",
       "6                   Project System Coding Mask Issue  SAP S/4HANA CLOUD 2202   \n",
       "7                                 manage G/l account  SAP S/4HANA CLOUD 2202   \n",
       "8      Project Control  - Capital Project Tiles Hide  SAP S/4HANA CLOUD 2202   \n",
       "9  Configuration Error For \"specifying sheduling ...  SAP S/4HANA CLOUD 2202   \n",
       "\n",
       "                                  communication_logs  \\\n",
       "0  [{'datetime': '', 'text': '<p>', 'type': ''}, ...   \n",
       "1  [{'datetime': '', 'text': '<p>', 'type': ''}, ...   \n",
       "2  [{'datetime': '', 'text': '<p>', 'type': ''}, ...   \n",
       "3  [{'datetime': '', 'text': '<p>', 'type': ''}, ...   \n",
       "4  [{'datetime': '', 'text': '<p>', 'type': ''}, ...   \n",
       "5  [{'datetime': '', 'text': '<p>', 'type': ''}, ...   \n",
       "6  [{'datetime': '', 'text': '<p>', 'type': ''}, ...   \n",
       "7  [{'datetime': '', 'text': '<p>', 'type': ''}, ...   \n",
       "8  [{'datetime': '', 'text': '<p>', 'type': ''}, ...   \n",
       "9  [{'datetime': '', 'text': '<p>', 'type': ''}, ...   \n",
       "\n",
       "                      solns  \\\n",
       "0  [0000000010, 0000067739]   \n",
       "1  [0003090520, 0003090520]   \n",
       "2              [0000000010]   \n",
       "3              [0002594771]   \n",
       "4              [0002594771]   \n",
       "5              [0002840635]   \n",
       "6              [0002673882]   \n",
       "7              [0000560499]   \n",
       "8              [0003207860]   \n",
       "9              [0002594771]   \n",
       "\n",
       "                     description_problem_description Reply installation_no  \\\n",
       "0  CBC URL - UNAUTHORIZED. Product Area selected:...            0090734847   \n",
       "1  SAP BTP URL. Product Area selected: SAP S/4HAN...            0090734847   \n",
       "2  SAP CBC URL Process is running from long time....            0090734847   \n",
       "3  Authorisation error in Renumber G/L Accounts. ...            0090734847   \n",
       "4  Chart of account assignment. --- Support Assis...            0090734847   \n",
       "5  Equipment Category is missing in SAP Cloud. Pr...            0090734847   \n",
       "6  Project System Coding Mask Issue. Product Area...            0090734847   \n",
       "7  manage G/l account. --- Support Assistant ---P...            0090734847   \n",
       "8  Project Control  - Capital Project Tiles Hide....            0090734847   \n",
       "9  Configuration Error For \"specifying sheduling ...            0090734847   \n",
       "\n",
       "   system_no  \n",
       "0  741286398  \n",
       "1  741286398  \n",
       "2  741286398  \n",
       "3  741632608  \n",
       "4  741632608  \n",
       "5  741632608  \n",
       "6  741632608  \n",
       "7  741632608  \n",
       "8  741632608  \n",
       "9  741632608  "
      ]
     },
     "execution_count": 149,
     "metadata": {},
     "output_type": "execute_result"
    }
   ],
   "source": [
    "release_2202_df[0:10]"
   ]
  },
  {
   "cell_type": "code",
   "execution_count": 169,
   "metadata": {},
   "outputs": [
    {
     "data": {
      "text/plain": [
       "_id                                        object\n",
       "component                                  object\n",
       "css_object_id                              object\n",
       "customer_name                              object\n",
       "customer_no                                object\n",
       "description                                object\n",
       "description_problem_description            object\n",
       "incident_created_at_dt             datetime64[ns]\n",
       "prod_version                               object\n",
       "Reply                                      object\n",
       "communication_logs                         object\n",
       "solns                                      object\n",
       "installation_no                            object\n",
       "system_no                                  object\n",
       "dtype: object"
      ]
     },
     "execution_count": 169,
     "metadata": {},
     "output_type": "execute_result"
    }
   ],
   "source": [
    "all_cloud_df.shape\n",
    "all_cloud_df.dtypes"
   ]
  },
  {
   "cell_type": "code",
   "execution_count": 151,
   "metadata": {},
   "outputs": [
    {
     "data": {
      "text/plain": [
       "(41532, 14)"
      ]
     },
     "execution_count": 151,
     "metadata": {},
     "output_type": "execute_result"
    }
   ],
   "source": [
    "filtered_df.shape"
   ]
  },
  {
   "cell_type": "code",
   "execution_count": 183,
   "metadata": {},
   "outputs": [
    {
     "data": {
      "text/html": [
       "<div>\n",
       "<style scoped>\n",
       "    .dataframe tbody tr th:only-of-type {\n",
       "        vertical-align: middle;\n",
       "    }\n",
       "\n",
       "    .dataframe tbody tr th {\n",
       "        vertical-align: top;\n",
       "    }\n",
       "\n",
       "    .dataframe thead th {\n",
       "        text-align: right;\n",
       "    }\n",
       "</style>\n",
       "<table border=\"1\" class=\"dataframe\">\n",
       "  <thead>\n",
       "    <tr style=\"text-align: right;\">\n",
       "      <th></th>\n",
       "      <th>customer_no</th>\n",
       "      <th>installation_no</th>\n",
       "      <th>solns</th>\n",
       "    </tr>\n",
       "  </thead>\n",
       "  <tbody>\n",
       "    <tr>\n",
       "      <th>0</th>\n",
       "      <td></td>\n",
       "      <td>0020568971</td>\n",
       "      <td>7</td>\n",
       "    </tr>\n",
       "    <tr>\n",
       "      <th>1</th>\n",
       "      <td></td>\n",
       "      <td>0020848565</td>\n",
       "      <td>21</td>\n",
       "    </tr>\n",
       "    <tr>\n",
       "      <th>2</th>\n",
       "      <td></td>\n",
       "      <td>0090353822</td>\n",
       "      <td>1</td>\n",
       "    </tr>\n",
       "    <tr>\n",
       "      <th>3</th>\n",
       "      <td></td>\n",
       "      <td>0090368653</td>\n",
       "      <td>1</td>\n",
       "    </tr>\n",
       "    <tr>\n",
       "      <th>4</th>\n",
       "      <td></td>\n",
       "      <td>0090403828</td>\n",
       "      <td>5</td>\n",
       "    </tr>\n",
       "    <tr>\n",
       "      <th>...</th>\n",
       "      <td>...</td>\n",
       "      <td>...</td>\n",
       "      <td>...</td>\n",
       "    </tr>\n",
       "    <tr>\n",
       "      <th>3390</th>\n",
       "      <td>0002699397</td>\n",
       "      <td>0020848565</td>\n",
       "      <td>3</td>\n",
       "    </tr>\n",
       "    <tr>\n",
       "      <th>3391</th>\n",
       "      <td>0002699397</td>\n",
       "      <td>0090736272</td>\n",
       "      <td>1</td>\n",
       "    </tr>\n",
       "    <tr>\n",
       "      <th>3392</th>\n",
       "      <td>0002712036</td>\n",
       "      <td>0020848565</td>\n",
       "      <td>3</td>\n",
       "    </tr>\n",
       "    <tr>\n",
       "      <th>3393</th>\n",
       "      <td>0002729008</td>\n",
       "      <td>0020848565</td>\n",
       "      <td>4</td>\n",
       "    </tr>\n",
       "    <tr>\n",
       "      <th>3394</th>\n",
       "      <td>0002763258</td>\n",
       "      <td>0020848565</td>\n",
       "      <td>1</td>\n",
       "    </tr>\n",
       "  </tbody>\n",
       "</table>\n",
       "<p>3395 rows × 3 columns</p>\n",
       "</div>"
      ],
      "text/plain": [
       "     customer_no installation_no  solns\n",
       "0                     0020568971      7\n",
       "1                     0020848565     21\n",
       "2                     0090353822      1\n",
       "3                     0090368653      1\n",
       "4                     0090403828      5\n",
       "...          ...             ...    ...\n",
       "3390  0002699397      0020848565      3\n",
       "3391  0002699397      0090736272      1\n",
       "3392  0002712036      0020848565      3\n",
       "3393  0002729008      0020848565      4\n",
       "3394  0002763258      0020848565      1\n",
       "\n",
       "[3395 rows x 3 columns]"
      ]
     },
     "execution_count": 183,
     "metadata": {},
     "output_type": "execute_result"
    }
   ],
   "source": [
    "dum = all_cloud_df.groupby([\"customer_no\", \"installation_no\"], as_index=False)[\"solns\"].count()\n",
    "dum"
   ]
  },
  {
   "cell_type": "code",
   "execution_count": 184,
   "metadata": {},
   "outputs": [
    {
     "data": {
      "image/png": "[encoded data removed]",
      "text/plain": [
       "<Figure size 432x288 with 1 Axes>"
      ]
     },
     "metadata": {
      "needs_background": "light"
     },
     "output_type": "display_data"
    }
   ],
   "source": [
    "hist = dum['solns'].hist()"
   ]
  },
  {
   "cell_type": "code",
   "execution_count": 178,
   "metadata": {},
   "outputs": [
    {
     "data": {
      "text/plain": [
       "count    3395.000000\n",
       "mean       45.656554\n",
       "std       112.816839\n",
       "min         1.000000\n",
       "25%         3.000000\n",
       "50%        10.000000\n",
       "75%        39.000000\n",
       "max      2647.000000\n",
       "Name: solns, dtype: float64"
      ]
     },
     "execution_count": 178,
     "metadata": {},
     "output_type": "execute_result"
    }
   ],
   "source": [
    "dum['solns'].describe()"
   ]
  },
  {
   "cell_type": "code",
   "execution_count": 152,
   "metadata": {},
   "outputs": [],
   "source": [
    "soln_list =  (list(set([a for b in release_2202_df.solns.tolist() for a in b])))"
   ]
  },
  {
   "cell_type": "code",
   "execution_count": 153,
   "metadata": {},
   "outputs": [
    {
     "data": {
      "text/plain": [
       "1414"
      ]
     },
     "execution_count": 153,
     "metadata": {},
     "output_type": "execute_result"
    }
   ],
   "source": [
    "len(soln_list)"
   ]
  },
  {
   "cell_type": "code",
   "execution_count": 154,
   "metadata": {},
   "outputs": [
    {
     "data": {
      "text/plain": [
       "['0002833569',\n",
       " '0002844952',\n",
       " '0003197566',\n",
       " '0002715686',\n",
       " '0003133023',\n",
       " '0002884902',\n",
       " '0002588361',\n",
       " '0002475649',\n",
       " '0002435438',\n",
       " '0002926267']"
      ]
     },
     "execution_count": 154,
     "metadata": {},
     "output_type": "execute_result"
    }
   ],
   "source": [
    "soln_list[0:10]"
   ]
  },
  {
   "cell_type": "code",
   "execution_count": 155,
   "metadata": {},
   "outputs": [
    {
     "data": {
      "text/plain": [
       "0    0090316691\n",
       "1    0090316691\n",
       "2    0090316691\n",
       "3    0090316691\n",
       "4    0090316691\n",
       "5    0090316691\n",
       "6    0090316691\n",
       "7    0090297162\n",
       "8    0090297162\n",
       "9    0090281954\n",
       "Name: installation_no, dtype: object"
      ]
     },
     "execution_count": 155,
     "metadata": {},
     "output_type": "execute_result"
    }
   ],
   "source": [
    "all_cloud_df['installation_no'][0:10]"
   ]
  },
  {
   "cell_type": "code",
   "execution_count": 156,
   "metadata": {},
   "outputs": [],
   "source": [
    "cust_num = '1847473'\n",
    "install_num = '20848565'\n",
    "df_filter = all_cloud_df[(all_cloud_df['customer_no'] == cust_num) & (all_cloud_df['installation_no'] == install_num)]\n"
   ]
  },
  {
   "cell_type": "code",
   "execution_count": 157,
   "metadata": {},
   "outputs": [
    {
     "data": {
      "text/plain": [
       "(0, 14)"
      ]
     },
     "execution_count": 157,
     "metadata": {},
     "output_type": "execute_result"
    }
   ],
   "source": [
    "df_filter.shape"
   ]
  },
  {
   "cell_type": "code",
   "execution_count": 158,
   "metadata": {},
   "outputs": [
    {
     "data": {
      "text/plain": [
       "Series([], Name: solns, dtype: object)"
      ]
     },
     "execution_count": 158,
     "metadata": {},
     "output_type": "execute_result"
    }
   ],
   "source": [
    "df_filter['solns']"
   ]
  },
  {
   "cell_type": "code",
   "execution_count": 159,
   "metadata": {},
   "outputs": [
    {
     "data": {
      "text/plain": [
       "[]"
      ]
     },
     "execution_count": 159,
     "metadata": {},
     "output_type": "execute_result"
    }
   ],
   "source": [
    "soln_list =  (list(set([a for b in df_filter.solns.tolist() for a in b])))\n",
    "input_soln_list = soln_list\n",
    "input_soln_list"
   ]
  },
  {
   "cell_type": "code",
   "execution_count": 160,
   "metadata": {},
   "outputs": [],
   "source": [
    "def Case1_overlap_stats(cust_num, install_num,  input_soln_list):\n",
    "    df_filter = all_cloud_df[(all_cloud_df['customer_no'] == cust_num) & (all_cloud_df['installation_no'] == install_num)]\n",
    "    soln_list =  (list(set([a for b in df_filter.solns.tolist() for a in b])))\n",
    "    lst3 = [value for value in soln_list if value in input_soln_list]\n",
    "    fraction_present = len(lst3)/len(input_soln_list)\n",
    "    return(fraction_present)\n"
   ]
  },
  {
   "cell_type": "code",
   "execution_count": 161,
   "metadata": {},
   "outputs": [],
   "source": [
    "def Case1_overlap_stats_2(cust_num, install_num, incident_dt, input_soln_list):\n",
    "    df_filter = all_cloud_df[(all_cloud_df['customer_no'] == cust_num) & (all_cloud_df['installation_no'] == install_num)\n",
    "                            & (all_cloud_df['incident_created_at_dt' ] > incident_dt)]\n",
    "    soln_list =  (list(set([a for b in df_filter.solns.tolist() for a in b])))\n",
    "    lst3 = [value for value in soln_list if value in input_soln_list]\n",
    "    fraction_present = len(lst3)/len(input_soln_list)\n",
    "    return(fraction_present)\n",
    "\n",
    "\n",
    "    "
   ]
  },
  {
   "cell_type": "code",
   "execution_count": 46,
   "metadata": {},
   "outputs": [],
   "source": [
    "cust_num = str(df_Case_1_validation['customer_no'][0])\n",
    "#cust_num\n",
    "install_num = str(df_Case_1_validation['installation_no'][0])\n",
    "#install_num\n",
    "input_soln_list = df_Case_1_validation['filtered_solns'][0]\n",
    "#input_soln_list"
   ]
  },
  {
   "cell_type": "code",
   "execution_count": 47,
   "metadata": {},
   "outputs": [
    {
     "data": {
      "text/plain": [
       "0.0"
      ]
     },
     "execution_count": 47,
     "metadata": {},
     "output_type": "execute_result"
    }
   ],
   "source": [
    "Case1_overlap_stats(cust_num, install_num, input_soln_list)"
   ]
  },
  {
   "cell_type": "code",
   "execution_count": null,
   "metadata": {},
   "outputs": [],
   "source": [
    "\n",
    "\n",
    "\n",
    "latest_actual_dt = list(infodocs_metadata_cloud.find({'prod_version': 'SAP S/4HANA CLOUD 2202'}).sort('incident_created_at_dt', -1).limit(1))[0]['incident_created_at_dt']\n",
    "latest_dt = latest_actual_dt - timedelta(days=61)\n",
    "filtered_df = pd.DataFrame(infodocs_metadata_cloud.find({'incident_created_at_dt': {\n",
    "    '$lt': latest_dt\n",
    "}}))"
   ]
  },
  {
   "cell_type": "markdown",
   "metadata": {},
   "source": [
    "Read in the validation file with customer number, installation number, created date and solutions"
   ]
  },
  {
   "cell_type": "code",
   "execution_count": 130,
   "metadata": {},
   "outputs": [],
   "source": [
    "df_Case_1_validation = pd.read_csv(\"UC1_auto_validation_scenario_1_testing.csv\")"
   ]
  },
  {
   "cell_type": "code",
   "execution_count": 131,
   "metadata": {},
   "outputs": [
    {
     "data": {
      "text/plain": [
       "queryId                   float64\n",
       "filtered_solns             object\n",
       "incident_created_at_dt     object\n",
       "customer_no                 int64\n",
       "installation_no             int64\n",
       "dtype: object"
      ]
     },
     "execution_count": 131,
     "metadata": {},
     "output_type": "execute_result"
    }
   ],
   "source": [
    "df_Case_1_validation.shape\n",
    "df_Case_1_validation.dtypes\n",
    "\n",
    "#df_Case_1_validation.columns"
   ]
  },
  {
   "cell_type": "code",
   "execution_count": 132,
   "metadata": {},
   "outputs": [],
   "source": [
    "# treat the column with a list so the input is read correctly as a list\n",
    "df_Case_1_validation.filtered_solns = df_Case_1_validation.filtered_solns.apply(literal_eval)\n",
    "#df_Case_1_validation.incident_created_at_dt = df_Case_1_validation.incident_created_at_dt.apply(literal_eval)\n",
    "                                                                    \n",
    "                                  "
   ]
  },
  {
   "cell_type": "code",
   "execution_count": 133,
   "metadata": {},
   "outputs": [],
   "source": [
    "# convert the incident_created_at_dt field to datetime\n",
    "df_Case_1_validation['incident_created_at_dt'] = pd.to_datetime(df_Case_1_validation['incident_created_at_dt'])"
   ]
  },
  {
   "cell_type": "code",
   "execution_count": 134,
   "metadata": {},
   "outputs": [],
   "source": [
    "# left pad the customer number with zeros to length 10 \n",
    "df_Case_1_validation['customer_no_padded'] = df_Case_1_validation.apply(lambda row: str(row.customer_no).zfill(10), axis = 1)\n",
    "# left pad the installation number with zeros to length 10 \n",
    "df_Case_1_validation['installation_no_padded'] = df_Case_1_validation.apply(lambda row: str(row.installation_no).zfill(10), axis = 1)\n",
    "                                                                       "
   ]
  },
  {
   "cell_type": "code",
   "execution_count": 135,
   "metadata": {},
   "outputs": [
    {
     "data": {
      "text/plain": [
       "0    0020848565\n",
       "1    0020848565\n",
       "2    0020589109\n",
       "3    0020848565\n",
       "4    0020848565\n",
       "5    0020848565\n",
       "6    0020848565\n",
       "7    0020848565\n",
       "8    0020848565\n",
       "9    0020848565\n",
       "Name: installation_no_padded, dtype: object"
      ]
     },
     "execution_count": 135,
     "metadata": {},
     "output_type": "execute_result"
    }
   ],
   "source": [
    "df_Case_1_validation[\"customer_no_padded\"][0:10]\n",
    "df_Case_1_validation[\"installation_no_padded\"][0:10]"
   ]
  },
  {
   "cell_type": "code",
   "execution_count": 136,
   "metadata": {},
   "outputs": [],
   "source": [
    "df_Case_1_validation['Precision'] = df_Case_1_validation.apply(lambda row : Case1_overlap_stats(row['customer_no_padded'],\n",
    "                     row['installation_no_padded'], row['filtered_solns']), axis = 1)"
   ]
  },
  {
   "cell_type": "code",
   "execution_count": 137,
   "metadata": {},
   "outputs": [],
   "source": [
    "df_Case_1_validation['Precision_2'] = df_Case_1_validation.apply(lambda row : Case1_overlap_stats_2(row['customer_no_padded'],\n",
    "                     row['installation_no_padded'], row['incident_created_at_dt'], row['filtered_solns']), axis = 1)\n",
    "  "
   ]
  },
  {
   "cell_type": "code",
   "execution_count": 101,
   "metadata": {},
   "outputs": [
    {
     "data": {
      "text/plain": [
       "0     0.0\n",
       "1     0.0\n",
       "2     0.0\n",
       "3     0.0\n",
       "4     0.0\n",
       "     ... \n",
       "95    0.0\n",
       "96    0.0\n",
       "97    0.0\n",
       "98    0.0\n",
       "99    0.0\n",
       "Name: Precision, Length: 100, dtype: float64"
      ]
     },
     "execution_count": 101,
     "metadata": {},
     "output_type": "execute_result"
    }
   ],
   "source": [
    "df_Case_1_validation['Precision'][0:100]"
   ]
  },
  {
   "cell_type": "code",
   "execution_count": 140,
   "metadata": {},
   "outputs": [
    {
     "data": {
      "text/plain": [
       "count    439.000000\n",
       "mean       0.000797\n",
       "std        0.012841\n",
       "min        0.000000\n",
       "25%        0.000000\n",
       "50%        0.000000\n",
       "75%        0.000000\n",
       "max        0.250000\n",
       "Name: Precision_2, dtype: float64"
      ]
     },
     "execution_count": 140,
     "metadata": {},
     "output_type": "execute_result"
    }
   ],
   "source": [
    "df_Case_1_validation['Precision_2'].describe()"
   ]
  },
  {
   "cell_type": "code",
   "execution_count": 141,
   "metadata": {
    "scrolled": false
   },
   "outputs": [
    {
     "data": {
      "text/html": [
       "<div>\n",
       "<style scoped>\n",
       "    .dataframe tbody tr th:only-of-type {\n",
       "        vertical-align: middle;\n",
       "    }\n",
       "\n",
       "    .dataframe tbody tr th {\n",
       "        vertical-align: top;\n",
       "    }\n",
       "\n",
       "    .dataframe thead th {\n",
       "        text-align: right;\n",
       "    }\n",
       "</style>\n",
       "<table border=\"1\" class=\"dataframe\">\n",
       "  <thead>\n",
       "    <tr style=\"text-align: right;\">\n",
       "      <th></th>\n",
       "      <th>queryId</th>\n",
       "      <th>filtered_solns</th>\n",
       "      <th>incident_created_at_dt</th>\n",
       "      <th>customer_no</th>\n",
       "      <th>installation_no</th>\n",
       "      <th>customer_no_padded</th>\n",
       "      <th>installation_no_padded</th>\n",
       "      <th>Precision</th>\n",
       "      <th>Precision_2</th>\n",
       "    </tr>\n",
       "  </thead>\n",
       "  <tbody>\n",
       "    <tr>\n",
       "      <th>0</th>\n",
       "      <td>2.024210e+21</td>\n",
       "      <td>[3150602]</td>\n",
       "      <td>2022-02-05 01:11:00</td>\n",
       "      <td>1847473</td>\n",
       "      <td>20848565</td>\n",
       "      <td>0001847473</td>\n",
       "      <td>0020848565</td>\n",
       "      <td>1.0</td>\n",
       "      <td>0.0</td>\n",
       "    </tr>\n",
       "    <tr>\n",
       "      <th>1</th>\n",
       "      <td>2.024210e+21</td>\n",
       "      <td>[2985592]</td>\n",
       "      <td>2022-02-15 11:27:00</td>\n",
       "      <td>488721</td>\n",
       "      <td>20848565</td>\n",
       "      <td>0000488721</td>\n",
       "      <td>0020848565</td>\n",
       "      <td>1.0</td>\n",
       "      <td>0.0</td>\n",
       "    </tr>\n",
       "    <tr>\n",
       "      <th>2</th>\n",
       "      <td>2.024210e+21</td>\n",
       "      <td>[, 3131775]</td>\n",
       "      <td>2022-02-17 11:26:00</td>\n",
       "      <td>1674281</td>\n",
       "      <td>20589109</td>\n",
       "      <td>0001674281</td>\n",
       "      <td>0020589109</td>\n",
       "      <td>0.5</td>\n",
       "      <td>0.0</td>\n",
       "    </tr>\n",
       "    <tr>\n",
       "      <th>3</th>\n",
       "      <td>2.024210e+21</td>\n",
       "      <td>[3087004]</td>\n",
       "      <td>2022-02-21 15:26:00</td>\n",
       "      <td>321101</td>\n",
       "      <td>20848565</td>\n",
       "      <td>0000321101</td>\n",
       "      <td>0020848565</td>\n",
       "      <td>1.0</td>\n",
       "      <td>0.0</td>\n",
       "    </tr>\n",
       "    <tr>\n",
       "      <th>4</th>\n",
       "      <td>2.024210e+21</td>\n",
       "      <td>[, 3091602]</td>\n",
       "      <td>2022-02-23 03:25:00</td>\n",
       "      <td>749349</td>\n",
       "      <td>20848565</td>\n",
       "      <td>0000749349</td>\n",
       "      <td>0020848565</td>\n",
       "      <td>0.5</td>\n",
       "      <td>0.0</td>\n",
       "    </tr>\n",
       "    <tr>\n",
       "      <th>...</th>\n",
       "      <td>...</td>\n",
       "      <td>...</td>\n",
       "      <td>...</td>\n",
       "      <td>...</td>\n",
       "      <td>...</td>\n",
       "      <td>...</td>\n",
       "      <td>...</td>\n",
       "      <td>...</td>\n",
       "      <td>...</td>\n",
       "    </tr>\n",
       "    <tr>\n",
       "      <th>434</th>\n",
       "      <td>2.075130e+21</td>\n",
       "      <td>[2810311, 2780129, 3122430, 2710764, 3110900, ...</td>\n",
       "      <td>2022-07-06 14:54:00</td>\n",
       "      <td>1784823</td>\n",
       "      <td>90354100</td>\n",
       "      <td>0001784823</td>\n",
       "      <td>0090354100</td>\n",
       "      <td>0.0</td>\n",
       "      <td>0.0</td>\n",
       "    </tr>\n",
       "    <tr>\n",
       "      <th>435</th>\n",
       "      <td>2.075130e+21</td>\n",
       "      <td>[2829755, 3113415, 3193185, 2732840, 1271517, ...</td>\n",
       "      <td>2022-07-07 08:09:00</td>\n",
       "      <td>1898421</td>\n",
       "      <td>90413788</td>\n",
       "      <td>0001898421</td>\n",
       "      <td>0090413788</td>\n",
       "      <td>0.3</td>\n",
       "      <td>0.0</td>\n",
       "    </tr>\n",
       "    <tr>\n",
       "      <th>436</th>\n",
       "      <td>2.075130e+21</td>\n",
       "      <td>[3090203, 2898414, 2434549, 3007837, 2982108, ...</td>\n",
       "      <td>2022-07-08 15:53:00</td>\n",
       "      <td>2496623</td>\n",
       "      <td>90537200</td>\n",
       "      <td>0002496623</td>\n",
       "      <td>0090537200</td>\n",
       "      <td>0.0</td>\n",
       "      <td>0.0</td>\n",
       "    </tr>\n",
       "    <tr>\n",
       "      <th>437</th>\n",
       "      <td>2.075130e+21</td>\n",
       "      <td>[, 2829433, 1980679, 456691, 3102374, 2978407,...</td>\n",
       "      <td>2022-07-11 01:55:00</td>\n",
       "      <td>2446229</td>\n",
       "      <td>90539702</td>\n",
       "      <td>0002446229</td>\n",
       "      <td>0090539702</td>\n",
       "      <td>0.0</td>\n",
       "      <td>0.0</td>\n",
       "    </tr>\n",
       "    <tr>\n",
       "      <th>438</th>\n",
       "      <td>2.075130e+21</td>\n",
       "      <td>[2544054, 2446425, 2812948, 3059697, 2546780, ...</td>\n",
       "      <td>2022-08-05 14:11:00</td>\n",
       "      <td>108475</td>\n",
       "      <td>90531424</td>\n",
       "      <td>0000108475</td>\n",
       "      <td>0090531424</td>\n",
       "      <td>0.0</td>\n",
       "      <td>0.0</td>\n",
       "    </tr>\n",
       "  </tbody>\n",
       "</table>\n",
       "<p>439 rows × 9 columns</p>\n",
       "</div>"
      ],
      "text/plain": [
       "          queryId                                     filtered_solns  \\\n",
       "0    2.024210e+21                                          [3150602]   \n",
       "1    2.024210e+21                                          [2985592]   \n",
       "2    2.024210e+21                                        [, 3131775]   \n",
       "3    2.024210e+21                                          [3087004]   \n",
       "4    2.024210e+21                                        [, 3091602]   \n",
       "..            ...                                                ...   \n",
       "434  2.075130e+21  [2810311, 2780129, 3122430, 2710764, 3110900, ...   \n",
       "435  2.075130e+21  [2829755, 3113415, 3193185, 2732840, 1271517, ...   \n",
       "436  2.075130e+21  [3090203, 2898414, 2434549, 3007837, 2982108, ...   \n",
       "437  2.075130e+21  [, 2829433, 1980679, 456691, 3102374, 2978407,...   \n",
       "438  2.075130e+21  [2544054, 2446425, 2812948, 3059697, 2546780, ...   \n",
       "\n",
       "    incident_created_at_dt  customer_no  installation_no customer_no_padded  \\\n",
       "0      2022-02-05 01:11:00      1847473         20848565         0001847473   \n",
       "1      2022-02-15 11:27:00       488721         20848565         0000488721   \n",
       "2      2022-02-17 11:26:00      1674281         20589109         0001674281   \n",
       "3      2022-02-21 15:26:00       321101         20848565         0000321101   \n",
       "4      2022-02-23 03:25:00       749349         20848565         0000749349   \n",
       "..                     ...          ...              ...                ...   \n",
       "434    2022-07-06 14:54:00      1784823         90354100         0001784823   \n",
       "435    2022-07-07 08:09:00      1898421         90413788         0001898421   \n",
       "436    2022-07-08 15:53:00      2496623         90537200         0002496623   \n",
       "437    2022-07-11 01:55:00      2446229         90539702         0002446229   \n",
       "438    2022-08-05 14:11:00       108475         90531424         0000108475   \n",
       "\n",
       "    installation_no_padded  Precision  Precision_2  \n",
       "0               0020848565        1.0          0.0  \n",
       "1               0020848565        1.0          0.0  \n",
       "2               0020589109        0.5          0.0  \n",
       "3               0020848565        1.0          0.0  \n",
       "4               0020848565        0.5          0.0  \n",
       "..                     ...        ...          ...  \n",
       "434             0090354100        0.0          0.0  \n",
       "435             0090413788        0.3          0.0  \n",
       "436             0090537200        0.0          0.0  \n",
       "437             0090539702        0.0          0.0  \n",
       "438             0090531424        0.0          0.0  \n",
       "\n",
       "[439 rows x 9 columns]"
      ]
     },
     "execution_count": 141,
     "metadata": {},
     "output_type": "execute_result"
    }
   ],
   "source": [
    "df_Case_1_validation"
   ]
  },
  {
   "cell_type": "code",
   "execution_count": 138,
   "metadata": {},
   "outputs": [
    {
     "data": {
      "image/png": "[encoded data removed]",
      "text/plain": [
       "<Figure size 432x288 with 1 Axes>"
      ]
     },
     "metadata": {
      "needs_background": "light"
     },
     "output_type": "display_data"
    }
   ],
   "source": [
    "hist = df_Case_1_validation['Precision'].hist()"
   ]
  },
  {
   "cell_type": "code",
   "execution_count": 139,
   "metadata": {},
   "outputs": [
    {
     "data": {
      "image/png": "[encoded data removed]",
      "text/plain": [
       "<Figure size 432x288 with 1 Axes>"
      ]
     },
     "metadata": {
      "needs_background": "light"
     },
     "output_type": "display_data"
    }
   ],
   "source": [
    "hist = df_Case_1_validation['Precision_2'].hist()"
   ]
  },
  {
   "cell_type": "code",
   "execution_count": 67,
   "metadata": {},
   "outputs": [],
   "source": [
    "df_Case_1_validation.to_csv(\"UC2_Solution_auto_validation_Scenario_1.csv\")"
   ]
  },
  {
   "cell_type": "code",
   "execution_count": 74,
   "metadata": {},
   "outputs": [
    {
     "data": {
      "text/plain": [
       "0      1.0\n",
       "1      1.0\n",
       "2      0.5\n",
       "3      1.0\n",
       "4      0.5\n",
       "      ... \n",
       "434    0.0\n",
       "435    0.3\n",
       "436    0.0\n",
       "437    0.0\n",
       "438    0.0\n",
       "Name: Precision, Length: 439, dtype: float64"
      ]
     },
     "execution_count": 74,
     "metadata": {},
     "output_type": "execute_result"
    }
   ],
   "source": [
    "df_Case_1_validation['Precision']"
   ]
  },
  {
   "cell_type": "code",
   "execution_count": null,
   "metadata": {},
   "outputs": [],
   "source": []
  }
 ],
 "metadata": {
  "kernelspec": {
   "display_name": "Python 3",
   "language": "python",
   "name": "python3"
  },
  "language_info": {
   "codemirror_mode": {
    "name": "ipython",
    "version": 3
   },
   "file_extension": ".py",
   "mimetype": "text/x-python",
   "name": "python",
   "nbconvert_exporter": "python",
   "pygments_lexer": "ipython3",
   "version": "3.6.8"
  }
 },
 "nbformat": 4,
 "nbformat_minor": 2
}
