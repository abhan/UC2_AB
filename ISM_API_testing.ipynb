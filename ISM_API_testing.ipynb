{
 "cells": [
  {
   "cell_type": "code",
   "execution_count": 112,
   "metadata": {},
   "outputs": [],
   "source": [
    "import pandas as pd\n",
    "import numpy as np\n",
    "import os\n",
    "import datetime\n",
    "import matplotlib.pyplot as plt\n",
    "import re\n",
    "from datetime import timedelta\n",
    "from collections import Counter"
   ]
  },
  {
   "cell_type": "markdown",
   "metadata": {},
   "source": [
    "# Load data from MongoDB"
   ]
  },
  {
   "cell_type": "code",
   "execution_count": 113,
   "metadata": {},
   "outputs": [],
   "source": [
    "from pymongo import MongoClient\n",
    "db_config= {\n",
    "\"MONGODB_ADDRESS\"    : os.environ.get('KEY_MONGO_ADDRESS','mongodb-service.stag-data.svc.cluster.local'),\n",
    "\"MONGODB_PORT\"       : os.environ.get('KEY_MONGO_PORT', '27017'),\n",
    "\"MONGODB_USERNAME\"   : os.environ.get('KEY_MONGO_USER', 'IBSO-read-write'),\n",
    "\"MONGODB_PASSWORD\"   : os.environ.get('KEY_MONGO_PASSWORD', 'NHWD5bw0xcMgy1Y'),\n",
    "\"MONGODB_DATABASE\"   : os.environ.get('KEY_MONGO_DATABASE', 'admin')\n",
    "}\n",
    "mongo_client = MongoClient(\n",
    "                ('mongodb://%s:%s@' + db_config[\"MONGODB_ADDRESS\"] + ':' + db_config[\"MONGODB_PORT\"] + '/' + db_config[\"MONGODB_DATABASE\"]) % (\n",
    "                    db_config[\"MONGODB_USERNAME\"], db_config[\"MONGODB_PASSWORD\"]), replicaset='rs0')\n",
    "infodocs_metadata = mongo_client[\"IBSO\"][\"infodocs_metadata\"]\n",
    "metadata_collection = mongo_client[\"IBSO\"][\"infodocs_metadata\"]\n",
    "coll_i = mongo_client[\"main\"][\"infodocs_parsed_version\"]"
   ]
  },
  {
   "cell_type": "markdown",
   "metadata": {},
   "source": [
    "# ISM (Intelligent Solution Matching) API "
   ]
  },
  {
   "cell_type": "code",
   "execution_count": 147,
   "metadata": {},
   "outputs": [],
   "source": [
    "# set input values\n",
    "incidentID = '002075129500003089632022'\n",
    "solutionID = \"3188945\"\n"
   ]
  },
  {
   "cell_type": "code",
   "execution_count": 151,
   "metadata": {},
   "outputs": [],
   "source": [
    "def get_incident_solutions_2(incidentID):\n",
    "    # get details of incidentID from MongoDB\n",
    "    css_object_id = incidentID\n",
    "    query = {\n",
    "        'css_object_id': css_object_id\n",
    "    }\n",
    "\n",
    "    res_list = list(coll_i.find(query).sort('incident_created_at_dt', -1).limit(1))\n",
    "\n",
    "    # build payload in the right format for the ISM API\n",
    "    payload = {}\n",
    "    names = {'css_object_id', 'component', 'description', 'problem_description'}\n",
    "    for x in res_list:\n",
    "        payload = { key:value for key,value in x.items() if key in names}\n",
    "    payload['queryId'] = payload.pop('css_object_id')\n",
    "    payload['problemDescription'] = payload.pop('description')\n",
    "    payload['stepsToReproduce'] = payload.pop('problem_description')\n",
    "    payload[\"firstEntry\"] =  0\n",
    "    payload[\"lastEntry\"] = 10\n",
    "\n",
    "    res = requests.post('http://ism-api-service-dev.ism-api.svc.cluster.local/',json=payload)\n",
    "    res_json = res.json()\n",
    "    df_res = pd.json_normalize(res_json, record_path = ['result_list'])\n",
    "    solution_list = df_res['nr']\n",
    "    return solution_list"
   ]
  },
  {
   "cell_type": "code",
   "execution_count": 152,
   "metadata": {},
   "outputs": [
    {
     "data": {
      "text/plain": [
       "0    2684000\n",
       "1    2863760\n",
       "2    2847365\n",
       "3    2958935\n",
       "4    3004412\n",
       "5    2856023\n",
       "6    3139614\n",
       "7    2769192\n",
       "8    2779873\n",
       "9    2846783\n",
       "Name: nr, dtype: object"
      ]
     },
     "execution_count": 152,
     "metadata": {},
     "output_type": "execute_result"
    }
   ],
   "source": [
    "get_incident_solutions_2(incidentID)"
   ]
  },
  {
   "cell_type": "code",
   "execution_count": 54,
   "metadata": {},
   "outputs": [
    {
     "data": {
      "text/plain": [
       "0    3188945\n",
       "1    3191869\n",
       "2    3126234\n",
       "3    3082432\n",
       "4    3189594\n",
       "5    3016569\n",
       "6    3007764\n",
       "7    3027560\n",
       "8    2994291\n",
       "9    3007076\n",
       "Name: nr, dtype: object"
      ]
     },
     "execution_count": 54,
     "metadata": {},
     "output_type": "execute_result"
    }
   ],
   "source": [
    "incidentID = \"002075129500003089632022\"\n",
    "get_incident_solutions(incidentID)"
   ]
  },
  {
   "cell_type": "markdown",
   "metadata": {},
   "source": [
    "# Get a list of Incident IDs for a doublet \n"
   ]
  },
  {
   "cell_type": "code",
   "execution_count": 153,
   "metadata": {},
   "outputs": [],
   "source": [
    "customer_no = '0002348832'\n",
    "installation_no = '0090463694'"
   ]
  },
  {
   "cell_type": "code",
   "execution_count": 154,
   "metadata": {},
   "outputs": [],
   "source": [
    "def get_doublet_incidents(customer_no, installation_no):\n",
    "    query = {\n",
    "        'customer_no': customer_no,\n",
    "        'installation_no': installation_no\n",
    "    }\n",
    "    res_list = list(metadata_collection.find(query).sort('incident_created_at_dt', -1).limit(1))\n",
    "    if len(res_list) == 0:\n",
    "        print('No doublet match found')\n",
    "    else:\n",
    "        css_object_id = res_list[0]['css_object_id']\n",
    "        #print(css_object_id)\n",
    "    # To get incidents as well\n",
    "    test_incident = metadata_collection.find_one({'css_object_id': css_object_id})\n",
    "    backtrack_days = 60\n",
    "    projection = {\n",
    "        \"css_object_id\": True,\n",
    "        \"prod_version\": True,\n",
    "        \"customer_no\": True,\n",
    "        \"customer_name\": True,\n",
    "        \"component\": True,\n",
    "        \"description\": True,\n",
    "        \"incident_created_at_dt\": True,\n",
    "        \"solns\": True\n",
    "    }\n",
    "    query = {\n",
    "        'prod_version': test_incident['prod_version'],\n",
    "        'incident_created_at_dt': {'$gt': test_incident['incident_created_at_dt'] - \n",
    "                                   timedelta(days=backtrack_days),'$lt': test_incident['incident_created_at_dt']\n",
    "                                  },\n",
    "        'customer_no': test_incident['customer_no'],\n",
    "        'installation_no': test_incident['installation_no']\n",
    "    }\n",
    "    test_df = pd.DataFrame(metadata_collection.find(query, projection))\n",
    "    return(test_df['css_object_id'])\n",
    "    "
   ]
  },
  {
   "cell_type": "code",
   "execution_count": 155,
   "metadata": {},
   "outputs": [
    {
     "data": {
      "text/plain": [
       "0     002075129400003203322022\n",
       "1     002075129500003089632022\n",
       "2     002075129500003099102022\n",
       "3     002075129500003235062022\n",
       "4     002075129400003324162022\n",
       "5     002075129400003355412022\n",
       "6     002075129400003396132022\n",
       "7     002075129400003396902022\n",
       "8     002075129500003262802022\n",
       "9     002075129500003269362022\n",
       "10    002075129500003370332022\n",
       "11    002075129400003527732022\n",
       "12    002075129500003549522022\n",
       "13    002075129400003708932022\n",
       "14    002075129400003828372022\n",
       "15    002075129400003931292022\n",
       "16    002075129500004290752022\n",
       "17    002028376700036101062022\n",
       "Name: css_object_id, dtype: object"
      ]
     },
     "execution_count": 155,
     "metadata": {},
     "output_type": "execute_result"
    }
   ],
   "source": [
    "get_doublet_incidents(customer_no, installation_no)"
   ]
  },
  {
   "cell_type": "markdown",
   "metadata": {},
   "source": [
    "# Get commmon solutions for a doublet (ISM API)\n",
    "\n"
   ]
  },
  {
   "cell_type": "code",
   "execution_count": 156,
   "metadata": {},
   "outputs": [],
   "source": [
    "def get_doublet_solutions(customer_no, installation_no):\n",
    "    incident_list = get_doublet_incidents(customer_no, installation_no)\n",
    "    solution_list = []\n",
    "    for incident in incident_list:\n",
    "        sols = get_incident_solutions_2(incident)\n",
    "        solution_list.append(sols)\n",
    "    solution_list_flat = [item for sublist in solution_list for item in sublist]\n",
    "    c = Counter( solution_list_flat ).most_common()\n",
    "    sols = [word for word, occurrences in c if occurrences > 1]\n",
    "    return(sols)\n",
    "    "
   ]
  },
  {
   "cell_type": "code",
   "execution_count": 157,
   "metadata": {},
   "outputs": [
    {
     "data": {
      "text/plain": [
       "['1012293', '2989899', '2867786', '2685359']"
      ]
     },
     "execution_count": 157,
     "metadata": {},
     "output_type": "execute_result"
    }
   ],
   "source": [
    "get_doublet_solutions(customer_no, installation_no)"
   ]
  },
  {
   "cell_type": "code",
   "execution_count": null,
   "metadata": {},
   "outputs": [],
   "source": [
    "%timeit get_doublet_solutions(customer_no, installation_no)"
   ]
  },
  {
   "cell_type": "markdown",
   "metadata": {},
   "source": [
    "#  Automatic validation scenarios (3)"
   ]
  },
  {
   "cell_type": "code",
   "execution_count": 102,
   "metadata": {},
   "outputs": [],
   "source": [
    "infodocs_metadata_cloud = mongo_client['IBSO']['infodocs_metadata_cloud_only']\n",
    "# Scenario 1\n",
    "release_2202_df = pd.DataFrame(infodocs_metadata_cloud.find({'prod_version': 'SAP S/4HANA CLOUD 2202'}))\n",
    "duplets_to_remove = release_2202_df[['customer_no', 'installation_no']].drop_duplicates()\n",
    "all_cloud_df = pd.DataFrame(infodocs_metadata_cloud.find({}))\n",
    "ind_to_remove = pd.Int64Index([])\n",
    "for row in duplets_to_remove.iloc:\n",
    "    ind_to_remove = ind_to_remove.join(all_cloud_df[(all_cloud_df['customer_no'] == row['customer_no']) & (all_cloud_df['installation_no'] == row['installation_no'])].index, how='outer')\n",
    "ind_to_remove\n",
    "scenario_1_df = all_cloud_df.drop(index=ind_to_remove)\n",
    "# Scenario 2\n",
    "latest_actual_dt = list(infodocs_metadata_cloud.find({'prod_version': 'SAP S/4HANA CLOUD 2202'}).sort('incident_created_at_dt', -1).limit(1))[0]['incident_created_at_dt']\n",
    "latest_dt = latest_actual_dt - timedelta(days=61)\n",
    "scenario_2_df = pd.DataFrame(infodocs_metadata_cloud.find({'incident_created_at_dt': {\n",
    "    '$lt': latest_dt\n",
    "}}))\n",
    "# Scenario 3\n",
    "scenario_3_df = pd.DataFrame(infodocs_metadata_cloud.find({}))\n"
   ]
  },
  {
   "cell_type": "code",
   "execution_count": 104,
   "metadata": {},
   "outputs": [
    {
     "data": {
      "text/html": [
       "<div>\n",
       "<style scoped>\n",
       "    .dataframe tbody tr th:only-of-type {\n",
       "        vertical-align: middle;\n",
       "    }\n",
       "\n",
       "    .dataframe tbody tr th {\n",
       "        vertical-align: top;\n",
       "    }\n",
       "\n",
       "    .dataframe thead th {\n",
       "        text-align: right;\n",
       "    }\n",
       "</style>\n",
       "<table border=\"1\" class=\"dataframe\">\n",
       "  <thead>\n",
       "    <tr style=\"text-align: right;\">\n",
       "      <th></th>\n",
       "      <th>_id</th>\n",
       "      <th>component</th>\n",
       "      <th>css_object_id</th>\n",
       "      <th>customer_name</th>\n",
       "      <th>customer_no</th>\n",
       "      <th>description</th>\n",
       "      <th>description_problem_description</th>\n",
       "      <th>incident_created_at_dt</th>\n",
       "      <th>prod_version</th>\n",
       "      <th>Reply</th>\n",
       "      <th>communication_logs</th>\n",
       "      <th>solns</th>\n",
       "      <th>installation_no</th>\n",
       "      <th>system_no</th>\n",
       "    </tr>\n",
       "  </thead>\n",
       "  <tbody>\n",
       "    <tr>\n",
       "      <th>0</th>\n",
       "      <td>635002305b3257a4b003b47d</td>\n",
       "      <td>XX-SER-SAPSMP-LAUNCH</td>\n",
       "      <td>002075129400004638912020</td>\n",
       "      <td>SAP Test Account - aPaul Pharma Tes</td>\n",
       "      <td>0001208936</td>\n",
       "      <td>Test incident for Business User *</td>\n",
       "      <td>Test incident for Business User *. --- Product...</td>\n",
       "      <td>2020-07-15 13:41:18</td>\n",
       "      <td>SAP S/4HANA CLOUD 1506</td>\n",
       "      <td>Hello, Incidents logged under XX-SER-SAPSMP-LA...</td>\n",
       "      <td>NaN</td>\n",
       "      <td>[2434336]</td>\n",
       "      <td>0090316691</td>\n",
       "      <td>800317677</td>\n",
       "    </tr>\n",
       "    <tr>\n",
       "      <th>1</th>\n",
       "      <td>635002305b3257a4b003b47e</td>\n",
       "      <td>LOD-MDM-DE</td>\n",
       "      <td>002075129500004950352019</td>\n",
       "      <td>SAP Test Account - aPaul Pharma Tes</td>\n",
       "      <td>0001208936</td>\n",
       "      <td>DO NOT TOUCH - * * (I049611) - SPU function S4...</td>\n",
       "      <td>DO NOT TOUCH - * * (I049611) - SPU function S4...</td>\n",
       "      <td>2019-08-30 08:47:26</td>\n",
       "      <td>SAP S/4HANA CLOUD 1506</td>\n",
       "      <td>sending back to partners DO NOT TOUCH - * * (I...</td>\n",
       "      <td>NaN</td>\n",
       "      <td>[12]</td>\n",
       "      <td>0090316691</td>\n",
       "      <td></td>\n",
       "    </tr>\n",
       "    <tr>\n",
       "      <th>2</th>\n",
       "      <td>635002305b3257a4b003b47f</td>\n",
       "      <td>CEC-C4F-CPXF-L2</td>\n",
       "      <td>002075129500003794572019</td>\n",
       "      <td>SAP Test Account - aPaul Pharma Tes</td>\n",
       "      <td>0001208936</td>\n",
       "      <td>test incident</td>\n",
       "      <td>test incident. test</td>\n",
       "      <td>2019-07-05 13:38:39</td>\n",
       "      <td>SAP S/4HANA CLOUD 1506</td>\n",
       "      <td>Checking subscription can be closed test incident</td>\n",
       "      <td>NaN</td>\n",
       "      <td>[1239839]</td>\n",
       "      <td>0090316691</td>\n",
       "      <td></td>\n",
       "    </tr>\n",
       "  </tbody>\n",
       "</table>\n",
       "</div>"
      ],
      "text/plain": [
       "                        _id             component             css_object_id  \\\n",
       "0  635002305b3257a4b003b47d  XX-SER-SAPSMP-LAUNCH  002075129400004638912020   \n",
       "1  635002305b3257a4b003b47e            LOD-MDM-DE  002075129500004950352019   \n",
       "2  635002305b3257a4b003b47f       CEC-C4F-CPXF-L2  002075129500003794572019   \n",
       "\n",
       "                         customer_name customer_no  \\\n",
       "0  SAP Test Account - aPaul Pharma Tes  0001208936   \n",
       "1  SAP Test Account - aPaul Pharma Tes  0001208936   \n",
       "2  SAP Test Account - aPaul Pharma Tes  0001208936   \n",
       "\n",
       "                                         description  \\\n",
       "0                  Test incident for Business User *   \n",
       "1  DO NOT TOUCH - * * (I049611) - SPU function S4...   \n",
       "2                                      test incident   \n",
       "\n",
       "                     description_problem_description incident_created_at_dt  \\\n",
       "0  Test incident for Business User *. --- Product...    2020-07-15 13:41:18   \n",
       "1  DO NOT TOUCH - * * (I049611) - SPU function S4...    2019-08-30 08:47:26   \n",
       "2                                test incident. test    2019-07-05 13:38:39   \n",
       "\n",
       "             prod_version                                              Reply  \\\n",
       "0  SAP S/4HANA CLOUD 1506  Hello, Incidents logged under XX-SER-SAPSMP-LA...   \n",
       "1  SAP S/4HANA CLOUD 1506  sending back to partners DO NOT TOUCH - * * (I...   \n",
       "2  SAP S/4HANA CLOUD 1506  Checking subscription can be closed test incident   \n",
       "\n",
       "  communication_logs      solns installation_no  system_no  \n",
       "0                NaN  [2434336]      0090316691  800317677  \n",
       "1                NaN       [12]      0090316691             \n",
       "2                NaN  [1239839]      0090316691             "
      ]
     },
     "execution_count": 104,
     "metadata": {},
     "output_type": "execute_result"
    }
   ],
   "source": [
    "scenario_3_df.head(3)"
   ]
  },
  {
   "cell_type": "code",
   "execution_count": null,
   "metadata": {},
   "outputs": [],
   "source": []
  }
 ],
 "metadata": {
  "kernelspec": {
   "display_name": "Python 3",
   "language": "python",
   "name": "python3"
  },
  "language_info": {
   "codemirror_mode": {
    "name": "ipython",
    "version": 3
   },
   "file_extension": ".py",
   "mimetype": "text/x-python",
   "name": "python",
   "nbconvert_exporter": "python",
   "pygments_lexer": "ipython3",
   "version": "3.6.8"
  }
 },
 "nbformat": 4,
 "nbformat_minor": 2
}
